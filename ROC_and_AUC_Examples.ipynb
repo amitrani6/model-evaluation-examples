{
 "cells": [
  {
   "cell_type": "markdown",
   "metadata": {},
   "source": [
    "# ROC and AUC \n",
    "\n",
    "This notebook covers the basics of Receiver Operator Characteristic (ROC) graphs and the concept of the area under the curve (AUC).\n",
    "\n",
    "Source: \"ROC and AUC, Clearly Explained!\", StatQuest with Josh Starmer https://www.youtube.com/watch?v=4jRBRDbJemM\n",
    "\n",
    "Data Science Project Steps:\n",
    "\n",
    "    1) Load the data\n",
    "\n",
    "    2) Define appropriate X and y\n",
    "\n",
    "    3) Normalize the Data\n",
    "\n",
    "    4) Split the data into train and test sets.\n",
    "\n",
    "    5) Fit a model\n",
    "\n",
    "    6) Predict"
   ]
  },
  {
   "cell_type": "markdown",
   "metadata": {},
   "source": [
    "## Part 1: Model Confusion Matrix\n",
    "\n",
    "![Binary Classifiction Confusion Matrix](supporting_images/Binary_Classifiction_Confusion_Matrix.jpg)\n",
    "\n",
    "\n",
    "## Part 2: Specificity and Sensitivity\n",
    "\n",
    "Sensitivity is the model's ability to correctly identify positives (belongs to a class). Specificity is the model's ability to correctly identify negatives (does not belong to a class)\n",
    "\n"
   ]
  },
  {
   "cell_type": "code",
   "execution_count": null,
   "metadata": {},
   "outputs": [],
   "source": []
  }
 ],
 "metadata": {
  "kernelspec": {
   "display_name": "Python 3",
   "language": "python",
   "name": "python3"
  },
  "language_info": {
   "codemirror_mode": {
    "name": "ipython",
    "version": 3
   },
   "file_extension": ".py",
   "mimetype": "text/x-python",
   "name": "python",
   "nbconvert_exporter": "python",
   "pygments_lexer": "ipython3",
   "version": "3.7.2"
  }
 },
 "nbformat": 4,
 "nbformat_minor": 2
}
