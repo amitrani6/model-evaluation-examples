{
 "cells": [
  {
   "cell_type": "markdown",
   "metadata": {},
   "source": [
    "# ROC and AUC \n",
    "\n",
    "This notebook covers the basics of Receiver Operator Characteristic (ROC) graphs and the concept of the area under the curve (AUC).\n",
    "\n",
    "Source: \"ROC and AUC, Clearly Explained!\", StatQuest with Josh Starmer https://www.youtube.com/watch?v=4jRBRDbJemM\n",
    "\n",
    "Data Science Project Steps:\n",
    "\n",
    "#Load the data\n",
    "\n",
    "#Define appropriate X and y\n",
    "\n",
    "#Normalize the Data\n",
    "\n",
    "# Split the data into train and test sets.\n",
    "\n",
    "#Fit a model\n",
    "\n",
    "#Predict\n",
    "y_hat_test = logreg.predict(X_test)\n",
    "\n",
    "#Data Preview"
   ]
  },
  {
   "cell_type": "code",
   "execution_count": null,
   "metadata": {},
   "outputs": [],
   "source": []
  }
 ],
 "metadata": {
  "kernelspec": {
   "display_name": "Python 3",
   "language": "python",
   "name": "python3"
  },
  "language_info": {
   "codemirror_mode": {
    "name": "ipython",
    "version": 3
   },
   "file_extension": ".py",
   "mimetype": "text/x-python",
   "name": "python",
   "nbconvert_exporter": "python",
   "pygments_lexer": "ipython3",
   "version": "3.7.2"
  }
 },
 "nbformat": 4,
 "nbformat_minor": 2
}
